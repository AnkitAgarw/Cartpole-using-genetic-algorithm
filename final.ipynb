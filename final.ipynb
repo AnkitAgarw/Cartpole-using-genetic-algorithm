{
  "nbformat": 4,
  "nbformat_minor": 0,
  "metadata": {
    "colab": {
      "name": "Copy of My_Task_1_final_Cartpole.ipynb",
      "provenance": [],
      "collapsed_sections": [],
      "machine_shape": "hm"
    },
    "kernelspec": {
      "name": "python3",
      "display_name": "Python 3"
    }
  },
  "cells": [
    {
      "cell_type": "code",
      "metadata": {
        "id": "g8A3RlxzpkSN",
        "colab_type": "code",
        "outputId": "01f06cc3-264e-442f-fbd2-c75bd4ed75c1",
        "colab": {
          "base_uri": "https://localhost:8080/",
          "height": 33
        }
      },
      "source": [
        "%tensorflow_version 1.x\n"
      ],
      "execution_count": 1,
      "outputs": [
        {
          "output_type": "stream",
          "text": [
            "TensorFlow 1.x selected.\n"
          ],
          "name": "stdout"
        }
      ]
    },
    {
      "cell_type": "code",
      "metadata": {
        "id": "DZc8WyvdlK1A",
        "colab_type": "code",
        "outputId": "e9fba5bc-b693-47f7-89e1-48a54409b05d",
        "colab": {
          "base_uri": "https://localhost:8080/",
          "height": 118
        }
      },
      "source": [
        "\n",
        "from google.colab import drive\n",
        "drive.mount('/content/drive')"
      ],
      "execution_count": 2,
      "outputs": [
        {
          "output_type": "stream",
          "text": [
            "Go to this URL in a browser: https://accounts.google.com/o/oauth2/auth?client_id=947318989803-6bn6qk8qdgf4n4g3pfee6491hc0brc4i.apps.googleusercontent.com&redirect_uri=urn%3aietf%3awg%3aoauth%3a2.0%3aoob&response_type=code&scope=email%20https%3a%2f%2fwww.googleapis.com%2fauth%2fdocs.test%20https%3a%2f%2fwww.googleapis.com%2fauth%2fdrive%20https%3a%2f%2fwww.googleapis.com%2fauth%2fdrive.photos.readonly%20https%3a%2f%2fwww.googleapis.com%2fauth%2fpeopleapi.readonly\n",
            "\n",
            "Enter your authorization code:\n",
            "··········\n",
            "Mounted at /content/drive\n"
          ],
          "name": "stdout"
        }
      ]
    },
    {
      "cell_type": "code",
      "metadata": {
        "id": "otJ11L5DpyGJ",
        "colab_type": "code",
        "colab": {}
      },
      "source": [
        "import gym"
      ],
      "execution_count": 0,
      "outputs": []
    },
    {
      "cell_type": "code",
      "metadata": {
        "id": "vA_jywDp2j78",
        "colab_type": "code",
        "colab": {}
      },
      "source": [
        ""
      ],
      "execution_count": 0,
      "outputs": []
    },
    {
      "cell_type": "code",
      "metadata": {
        "id": "n-kgJIJxp5lA",
        "colab_type": "code",
        "outputId": "4c75c46a-11ae-4d6c-d0c8-2471aa360b22",
        "colab": {
          "base_uri": "https://localhost:8080/",
          "height": 33
        }
      },
      "source": [
        "gym.__file__"
      ],
      "execution_count": 0,
      "outputs": [
        {
          "output_type": "execute_result",
          "data": {
            "text/plain": [
              "'/usr/local/lib/python3.6/dist-packages/gym/__init__.py'"
            ]
          },
          "metadata": {
            "tags": []
          },
          "execution_count": 4
        }
      ]
    },
    {
      "cell_type": "code",
      "metadata": {
        "id": "kz3hmwtyOuSB",
        "colab_type": "code",
        "colab": {}
      },
      "source": [
        "mv '/usr/local/lib/python3.6/dist-packages/gym/envs/classic_control/cartpole.py' '/usr/local/lib/python3.6/dist-packages/gym/envs/classic_control/cartpole_1.py'"
      ],
      "execution_count": 0,
      "outputs": []
    },
    {
      "cell_type": "code",
      "metadata": {
        "id": "KLu9DCqkp-jw",
        "colab_type": "code",
        "colab": {}
      },
      "source": [
        "mv './task1.py' '/usr/local/lib/python3.6/dist-packages/gym/envs/classic_control/cartpole.py'"
      ],
      "execution_count": 0,
      "outputs": []
    },
    {
      "cell_type": "code",
      "metadata": {
        "id": "mcpIZvW7sKB4",
        "colab_type": "code",
        "outputId": "d379cda3-c11f-4241-f8c3-987b9a2e2d54",
        "colab": {
          "base_uri": "https://localhost:8080/",
          "height": 66
        }
      },
      "source": [
        "ls '/usr/local/lib/python3.6/dist-packages/gym/envs/classic_control'"
      ],
      "execution_count": 0,
      "outputs": [
        {
          "output_type": "stream",
          "text": [
            "acrobot.py     cartpole.py                 mountain_car.py  rendering.py\n",
            "\u001b[0m\u001b[01;34massets\u001b[0m/        continuous_mountain_car.py  pendulum.py\n",
            "cartpole_1.py  __init__.py                 \u001b[01;34m__pycache__\u001b[0m/\n"
          ],
          "name": "stdout"
        }
      ]
    },
    {
      "cell_type": "code",
      "metadata": {
        "id": "lNsKacWb2p0f",
        "colab_type": "code",
        "outputId": "6e862141-43f6-4cde-dad9-294cc6c9f55e",
        "colab": {
          "base_uri": "https://localhost:8080/",
          "height": 1000
        }
      },
      "source": [
        "cat  '/usr/local/lib/python3.6/dist-packages/gym/envs/classic_control/cartpole_1.py'"
      ],
      "execution_count": 0,
      "outputs": [
        {
          "output_type": "stream",
          "text": [
            "\"\"\"\n",
            "Classic cart-pole system implemented by Rich Sutton et al.\n",
            "Copied from http://incompleteideas.net/sutton/book/code/pole.c\n",
            "permalink: https://perma.cc/C9ZM-652R\n",
            "\"\"\"\n",
            "\n",
            "import math\n",
            "import gym\n",
            "from gym import spaces, logger\n",
            "from gym.utils import seeding\n",
            "import numpy as np\n",
            "\n",
            "class CartPoleEnv(gym.Env):\n",
            "    \"\"\"\n",
            "    Description:\n",
            "        A pole is attached by an un-actuated joint to a cart, which moves along a frictionless track. The pendulum starts upright, and the goal is to prevent it from falling over by increasing and reducing the cart's velocity.\n",
            "\n",
            "    Source:\n",
            "        This environment corresponds to the version of the cart-pole problem described by Barto, Sutton, and Anderson\n",
            "\n",
            "    Observation: \n",
            "        Type: Box(4)\n",
            "        Num\tObservation                 Min         Max\n",
            "        0\tCart Position             -4.8            4.8\n",
            "        1\tCart Velocity             -Inf            Inf\n",
            "        2\tPole Angle                 -24 deg        24 deg\n",
            "        3\tPole Velocity At Tip      -Inf            Inf\n",
            "        \n",
            "    Actions:\n",
            "        Type: Discrete(2)\n",
            "        Num\tAction\n",
            "        0\tPush cart to the left\n",
            "        1\tPush cart to the right\n",
            "        \n",
            "        Note: The amount the velocity that is reduced or increased is not fixed; it depends on the angle the pole is pointing. This is because the center of gravity of the pole increases the amount of energy needed to move the cart underneath it\n",
            "\n",
            "    Reward:\n",
            "        Reward is 1 for every step taken, including the termination step\n",
            "\n",
            "    Starting State:\n",
            "        All observations are assigned a uniform random value in [-0.05..0.05]\n",
            "\n",
            "    Episode Termination:\n",
            "        Pole Angle is more than 12 degrees\n",
            "        Cart Position is more than 2.4 (center of the cart reaches the edge of the display)\n",
            "        Episode length is greater than 200\n",
            "        Solved Requirements\n",
            "        Considered solved when the average reward is greater than or equal to 195.0 over 100 consecutive trials.\n",
            "    \"\"\"\n",
            "    \n",
            "    metadata = {\n",
            "        'render.modes': ['human', 'rgb_array'],\n",
            "        'video.frames_per_second' : 50\n",
            "    }\n",
            "\n",
            "    def __init__(self):\n",
            "        self.gravity = 9.8\n",
            "        self.masscart = 1.0\n",
            "        self.masspole = 0.1\n",
            "        self.total_mass = (self.masspole + self.masscart)\n",
            "        self.length = 0.5 # actually half the pole's length\n",
            "        self.polemass_length = (self.masspole * self.length)\n",
            "        self.force_mag = 10.0\n",
            "        self.tau = 0.02  # seconds between state updates\n",
            "        self.kinematics_integrator = 'euler'\n",
            "\n",
            "        # Angle at which to fail the episode\n",
            "        self.theta_threshold_radians = 12 * 2 * math.pi / 360\n",
            "        self.x_threshold = 2.4\n",
            "\n",
            "        # Angle limit set to 2 * theta_threshold_radians so failing observation is still within bounds\n",
            "        high = np.array([self.x_threshold * 2,\n",
            "                         np.finfo(np.float32).max,\n",
            "                         self.theta_threshold_radians * 2,\n",
            "                         np.finfo(np.float32).max],\n",
            "                        dtype=np.float32)\n",
            "\n",
            "        self.action_space = spaces.Discrete(2)\n",
            "        self.observation_space = spaces.Box(-high, high, dtype=np.float32)\n",
            "\n",
            "        self.seed()\n",
            "        self.viewer = None\n",
            "        self.state = None\n",
            "\n",
            "        self.steps_beyond_done = None\n",
            "\n",
            "    def seed(self, seed=None):\n",
            "        self.np_random, seed = seeding.np_random(seed)\n",
            "        return [seed]\n",
            "\n",
            "    def step(self, action):\n",
            "        assert self.action_space.contains(action), \"%r (%s) invalid\"%(action, type(action))\n",
            "        state = self.state\n",
            "        x, x_dot, theta, theta_dot = state\n",
            "        force = self.force_mag if action==1 else -self.force_mag\n",
            "        costheta = math.cos(theta)\n",
            "        sintheta = math.sin(theta)\n",
            "        temp = (force + self.polemass_length * theta_dot * theta_dot * sintheta) / self.total_mass\n",
            "        thetaacc = (self.gravity * sintheta - costheta* temp) / (self.length * (4.0/3.0 - self.masspole * costheta * costheta / self.total_mass))\n",
            "        xacc  = temp - self.polemass_length * thetaacc * costheta / self.total_mass\n",
            "        if self.kinematics_integrator == 'euler':\n",
            "            x  = x + self.tau * x_dot\n",
            "            x_dot = x_dot + self.tau * xacc\n",
            "            theta = theta + self.tau * theta_dot\n",
            "            theta_dot = theta_dot + self.tau * thetaacc\n",
            "        else: # semi-implicit euler\n",
            "            x_dot = x_dot + self.tau * xacc\n",
            "            x  = x + self.tau * x_dot\n",
            "            theta_dot = theta_dot + self.tau * thetaacc\n",
            "            theta = theta + self.tau * theta_dot\n",
            "        self.state = (x,x_dot,theta,theta_dot)\n",
            "        done =  x < -self.x_threshold \\\n",
            "                or x > self.x_threshold \\\n",
            "                or theta < -self.theta_threshold_radians \\\n",
            "                or theta > self.theta_threshold_radians\n",
            "        done = bool(done)\n",
            "\n",
            "        if not done:\n",
            "            reward = 1.0\n",
            "        elif self.steps_beyond_done is None:\n",
            "            # Pole just fell!\n",
            "            self.steps_beyond_done = 0\n",
            "            reward = 1.0\n",
            "        else:\n",
            "            if self.steps_beyond_done == 0:\n",
            "                logger.warn(\"You are calling 'step()' even though this environment has already returned done = True. You should always call 'reset()' once you receive 'done = True' -- any further steps are undefined behavior.\")\n",
            "            self.steps_beyond_done += 1\n",
            "            reward = 0.0\n",
            "\n",
            "        return np.array(self.state), reward, done, {}\n",
            "\n",
            "    def reset(self):\n",
            "        self.state = self.np_random.uniform(low=-0.05, high=0.05, size=(4,))\n",
            "        self.steps_beyond_done = None\n",
            "        return np.array(self.state)\n",
            "\n",
            "    def render(self, mode='human'):\n",
            "        screen_width = 600\n",
            "        screen_height = 400\n",
            "\n",
            "        world_width = self.x_threshold*2\n",
            "        scale = screen_width/world_width\n",
            "        carty = 100 # TOP OF CART\n",
            "        polewidth = 10.0\n",
            "        polelen = scale * (2 * self.length)\n",
            "        cartwidth = 50.0\n",
            "        cartheight = 30.0\n",
            "\n",
            "        if self.viewer is None:\n",
            "            from gym.envs.classic_control import rendering\n",
            "            self.viewer = rendering.Viewer(screen_width, screen_height)\n",
            "            l,r,t,b = -cartwidth/2, cartwidth/2, cartheight/2, -cartheight/2\n",
            "            axleoffset =cartheight/4.0\n",
            "            cart = rendering.FilledPolygon([(l,b), (l,t), (r,t), (r,b)])\n",
            "            self.carttrans = rendering.Transform()\n",
            "            cart.add_attr(self.carttrans)\n",
            "            self.viewer.add_geom(cart)\n",
            "            l,r,t,b = -polewidth/2,polewidth/2,polelen-polewidth/2,-polewidth/2\n",
            "            pole = rendering.FilledPolygon([(l,b), (l,t), (r,t), (r,b)])\n",
            "            pole.set_color(.8,.6,.4)\n",
            "            self.poletrans = rendering.Transform(translation=(0, axleoffset))\n",
            "            pole.add_attr(self.poletrans)\n",
            "            pole.add_attr(self.carttrans)\n",
            "            self.viewer.add_geom(pole)\n",
            "            self.axle = rendering.make_circle(polewidth/2)\n",
            "            self.axle.add_attr(self.poletrans)\n",
            "            self.axle.add_attr(self.carttrans)\n",
            "            self.axle.set_color(.5,.5,.8)\n",
            "            self.viewer.add_geom(self.axle)\n",
            "            self.track = rendering.Line((0,carty), (screen_width,carty))\n",
            "            self.track.set_color(0,0,0)\n",
            "            self.viewer.add_geom(self.track)\n",
            "\n",
            "            self._pole_geom = pole\n",
            "\n",
            "        if self.state is None: return None\n",
            "\n",
            "        # Edit the pole polygon vertex\n",
            "        pole = self._pole_geom\n",
            "        l,r,t,b = -polewidth/2,polewidth/2,polelen-polewidth/2,-polewidth/2\n",
            "        pole.v = [(l,b), (l,t), (r,t), (r,b)]\n",
            "\n",
            "        x = self.state\n",
            "        cartx = x[0]*scale+screen_width/2.0 # MIDDLE OF CART\n",
            "        self.carttrans.set_translation(cartx, carty)\n",
            "        self.poletrans.set_rotation(-x[2])\n",
            "\n",
            "        return self.viewer.render(return_rgb_array = mode=='rgb_array')\n",
            "\n",
            "    def close(self):\n",
            "        if self.viewer:\n",
            "            self.viewer.close()\n",
            "            self.viewer = None\n"
          ],
          "name": "stdout"
        }
      ]
    },
    {
      "cell_type": "code",
      "metadata": {
        "id": "JQhh7VB6l3AE",
        "colab_type": "code",
        "outputId": "072b01e2-a917-4afc-8a02-a3f606201488",
        "colab": {
          "base_uri": "https://localhost:8080/",
          "height": 1000
        }
      },
      "source": [
        "cat  '/usr/local/lib/python3.6/dist-packages/gym/envs/classic_control/cartpole.py'"
      ],
      "execution_count": 0,
      "outputs": [
        {
          "output_type": "stream",
          "text": [
            "import math\n",
            "import gym\n",
            "from gym import spaces, logger\n",
            "from gym.utils import seeding\n",
            "import numpy as np\n",
            "class CartPoleEnv(gym.Env):\n",
            "\tmetadata = {\n",
            "\t\t\t'render.modes': ['human', 'rgb_array'],\n",
            "\t\t\t'video.frames_per_second' : 50\n",
            "\t}\n",
            "\n",
            "\tdef __init__(self,case=1):\n",
            "\t\tself.__version__ = \"0.2.0\"\n",
            "\t\tprint(\"CartPoleEnv - Version {}, Noise case: {}\".format(self.__version__,case))\n",
            "\t\tself.gravity = 9.8\n",
            "\t\tself.masscart = 1.0\n",
            "\t\tself.masspole = 0.4\n",
            "\t\tself.total_mass = (self.masspole + self.masscart)\n",
            "\t\tself.length = 0.5 \n",
            "\t\tself.polemass_length = (self.masspole * self.length)\n",
            "\t\tself._seed()\n",
            "\n",
            "\t\tself.force_mag = 10.0\n",
            "\t\t#self.force_mag = 10.0*(1+self.np_random.uniform(low=-0.10, high=0.10))\n",
            "\n",
            "\t\t \n",
            "\t\tself.tau = 0.02  # seconds between state updates\n",
            "\t\tself.frictioncart = 5e-4 # AA Added cart friction\n",
            "\t\tself.frictionpole = 2e-6 # AA Added cart friction\n",
            "\t\tself.gravity_eps = 0.99 # Random scaling for gravity\n",
            "\t\tself.frictioncart_eps = 0.99 # Random scaling for friction\n",
            "\t\tself.frictionpole_eps = 0.99 # Random scaling for friction\n",
            "\n",
            "\t\t# Angle at which to fail the episode\n",
            "\t\tself.theta_threshold_radians = 12 * 2 * math.pi / 360\n",
            "\t\tself.x_threshold = 2.4\n",
            "\n",
            "\t\t# Angle limit set to 2 * theta_threshold_radians so failing observation is still within bounds\n",
            "\t\thigh = np.array([\n",
            "\t\t\tself.x_threshold * 2,\n",
            "\t\t\tnp.finfo(np.float32).max,\n",
            "\t\t\tself.theta_threshold_radians * 2,\n",
            "\t\t\tnp.finfo(np.float32).max])\n",
            "\n",
            "\t\tself.action_space = spaces.Discrete(2) # AA Set discrete states back to 2\n",
            "\t\tself.observation_space = spaces.Box(-high, high)\n",
            "\n",
            "\t\tself.viewer = None\n",
            "\t\tself.state = None\n",
            "\n",
            "\t\tself.steps_beyond_done = None\n",
            "\n",
            "\tdef _seed(self, seed=None): # Set appropriate seed value\n",
            "\t\tself.np_random, seed = seeding.np_random(seed)\n",
            "\t\treturn [seed]\n",
            "\n",
            "\tdef _step(self, action):\n",
            "\t\tassert self.action_space.contains(action), \"%r (%s) invalid\"%(action, type(action))\n",
            "\t\tstate = self.state\n",
            "\t\tx, x_dot, theta, theta_dot = state\n",
            "\t\tforce = self.force_mag if action==1 else -self.force_mag\n",
            "\t\tcostheta = math.cos(theta)\n",
            "\t\tsintheta = math.sin(theta)\n",
            "\t\ttemp = (force + self.polemass_length * theta_dot * theta_dot * sintheta - self.frictioncart * (4 + self.frictioncart_eps*np.random.randn()) *np.sign(x_dot)) / self.total_mass # AA Added cart friction\n",
            "\t\tthetaacc = (self.gravity * (4 + self.gravity_eps*np.random.randn()) * sintheta - costheta* temp - self.frictionpole * (4 + self.frictionpole_eps*np.random.randn()) *theta_dot/self.polemass_length) / (self.length * (4.0/3.0 - self.masspole * costheta * costheta / self.total_mass)) # AA Added pole friction\n",
            "\t\txacc  = temp - self.polemass_length * thetaacc * costheta / self.total_mass\n",
            "\t\tnoise = 0\n",
            "\t\t#noise = self.np_random.uniform(low=-0.10, high=0.10) \n",
            "\t\tx  = (x + self.tau * x_dot)\n",
            "\t\tx_dot = (x_dot + self.tau * xacc)\n",
            "\t\ttheta = (theta + self.tau * theta_dot)*(1 + noise)\n",
            "\t\ttheta_dot = (theta_dot + self.tau * thetaacc)\n",
            "\t\tself.state = (x,x_dot,theta,theta_dot)\n",
            "\t\tdone =  x < -self.x_threshold \\\n",
            "\t\t\t\tor x > self.x_threshold \\\n",
            "\t\t\t\tor theta < -self.theta_threshold_radians \\\n",
            "\t\t\t\tor theta > self.theta_threshold_radians\n",
            "\t\tdone = bool(done)\n",
            "\n",
            "\t\tif not done:\n",
            "\t\t\treward = 1.0\n",
            "\t\telif self.steps_beyond_done is None:\n",
            "\t\t\t# Pole just fell!\n",
            "\t\t\tself.steps_beyond_done = 0\n",
            "\t\t\treward = 1.0\n",
            "\t\telse:\n",
            "\t\t\tif self.steps_beyond_done == 0:\n",
            "\t\t\t\tlogger.warn(\"You are calling 'step()' even though this environment has already returned done = True. You should always call 'reset()' once you receive 'done = True' -- any further steps are undefined behavior.\")\n",
            "\t\t\tself.steps_beyond_done += 1\n",
            "\t\t\treward = 0.0\n",
            "\n",
            "\t\treturn np.array(self.state), reward, done, {}\n",
            "\n",
            "\tdef _reset(self):\n",
            "\t\tself.state = self.np_random.uniform(low=-0.05, high=0.05, size=(4,))\n",
            "\t\tself.steps_beyond_done = None\n",
            "\t\treturn np.array(self.state)\n",
            "\n",
            "\tdef _render(self, mode='human', close=False):\n",
            "\t\tif close:\n",
            "\t\t\tif self.viewer is not None:\n",
            "\t\t\t\tself.viewer.close()\n",
            "\t\t\t\tself.viewer = None\n",
            "\t\t\treturn\n",
            "\n",
            "\t\tscreen_width = 600\n",
            "\t\tscreen_height = 400\n",
            "\n",
            "\t\tworld_width = self.x_threshold*2\n",
            "\t\tscale = screen_width/world_width\n",
            "\t\tcarty = 100 # TOP OF CART\n",
            "\t\tpolewidth = 10.0\n",
            "\t\tpolelen = scale * 1.0\n",
            "\t\tcartwidth = 50.0\n",
            "\t\tcartheight = 30.0\n",
            "\n",
            "\t\tif self.viewer is None:\n",
            "\t\t\tfrom gym.envs.classic_control import rendering\n",
            "\t\t\tself.viewer = rendering.Viewer(screen_width, screen_height)\n",
            "\t\t\tl,r,t,b = -cartwidth/2, cartwidth/2, cartheight/2, -cartheight/2\n",
            "\t\t\taxleoffset =cartheight/4.0\n",
            "\t\t\tcart = rendering.FilledPolygon([(l,b), (l,t), (r,t), (r,b)])\n",
            "\t\t\tself.carttrans = rendering.Transform()\n",
            "\t\t\tcart.add_attr(self.carttrans)\n",
            "\t\t\tself.viewer.add_geom(cart)\n",
            "\t\t\tl,r,t,b = -polewidth/2,polewidth/2,polelen-polewidth/2,-polewidth/2\n",
            "\t\t\tpole = rendering.FilledPolygon([(l,b), (l,t), (r,t), (r,b)])\n",
            "\t\t\tpole.set_color(.8,.6,.4)\n",
            "\t\t\tself.poletrans = rendering.Transform(translation=(0, axleoffset))\n",
            "\t\t\tpole.add_attr(self.poletrans)\n",
            "\t\t\tpole.add_attr(self.carttrans)\n",
            "\t\t\tself.viewer.add_geom(pole)\n",
            "\t\t\tself.axle = rendering.make_circle(polewidth/2)\n",
            "\t\t\tself.axle.add_attr(self.poletrans)\n",
            "\t\t\tself.axle.add_attr(self.carttrans)\n",
            "\t\t\tself.axle.set_color(.5,.5,.8)\n",
            "\t\t\tself.viewer.add_geom(self.axle)\n",
            "\t\t\tself.track = rendering.Line((0,carty), (screen_width,carty))\n",
            "\t\t\tself.track.set_color(0,0,0)\n",
            "\t\t\tself.viewer.add_geom(self.track)\n",
            "\n",
            "\t\tif self.state is None: return None\n",
            "\n",
            "\t\tx = self.state\n",
            "\t\tcartx = x[0]*scale+screen_width/2.0 # MIDDLE OF CART\n",
            "\t\tself.carttrans.set_translation(cartx, carty)\n",
            "\t\tself.poletrans.set_rotation(-x[2])\n",
            "\t\treturn self.viewer.render(return_rgb_array = mode=='rgb_array')\n"
          ],
          "name": "stdout"
        }
      ]
    },
    {
      "cell_type": "code",
      "metadata": {
        "id": "z6TwRVoCuZnm",
        "colab_type": "code",
        "colab": {}
      },
      "source": [
        "import sys\n",
        "\n",
        "orig_stdout = sys.stdout\n",
        "f = open('./drive/My Drive/Ml_para/ml_task1/out1.txt', 'w')\n",
        "sys.stdout = f\n"
      ],
      "execution_count": 0,
      "outputs": []
    },
    {
      "cell_type": "code",
      "metadata": {
        "id": "bmpb7R5BpwX5",
        "colab_type": "code",
        "outputId": "7122b9d7-2a34-429f-e562-f0abc15d798c",
        "colab": {
          "base_uri": "https://localhost:8080/",
          "height": 50
        }
      },
      "source": [
        "import gym\n",
        "import random\n",
        "import numpy as np\n",
        "import math\n",
        "from statistics import median, mean\n",
        "from collections import Counter\n",
        "import keras\n",
        "\n",
        "env = gym.make(\"CartPole-v1\")\n",
        "env.reset()\n",
        "goal_steps = 500\n",
        "\n",
        "def population(model=False,initial_games=1000):\n",
        "    training_data = []\n",
        "    scores = []\n",
        "    accepted_scores = []\n",
        "    all_game_memory=[]\n",
        "    for _ in range(initial_games):\n",
        "        score = 0\n",
        "        game_memory = []\n",
        "        prev_observation = []\n",
        "        for _ in range(goal_steps):\n",
        "            if model==False or len(prev_observation)==0:\n",
        "                action = random.randrange(0,2)\n",
        "            else:\n",
        "                action = np.argmax(model.predict(prev_observation.reshape(-1,len(prev_observation)))[0])\n",
        "            observation, reward, done, info = env.step(action)\n",
        "            if len(prev_observation) > 0 :\n",
        "                game_memory.append([prev_observation, action])\n",
        "            prev_observation = observation\n",
        "            score+=reward\n",
        "            if done:\n",
        "              all_game_memory.append(game_memory)\n",
        "              scores.append(score)\n",
        "              break\n",
        "        env.reset()\n",
        "        \n",
        "    top100=sorted(range(len(scores)),key=lambda i:scores[i])[-100:]\n",
        "    for ind in top100:\n",
        "        accepted_scores.append(scores[ind])\n",
        "        for data in all_game_memory[ind]:\n",
        "            if data[1] == 1:\n",
        "                output = [0,1]\n",
        "            elif data[1] == 0:\n",
        "                output = [1,0]\n",
        "            training_data.append([data[0], output])\n",
        "        \n",
        "        \n",
        "    \n",
        "    # just in case you wanted to reference later\n",
        "    training_data_save = np.array(training_data)\n",
        "    np.save('saved.npy',training_data_save)\n",
        "    \n",
        "    # some stats here, to further illustrate the neural network magic!\n",
        "    # print('Average accepted score:',mean(accepted_scores))\n",
        "    print('Median score for accepted scores:',median(accepted_scores))\n",
        "    print(Counter(accepted_scores))\n",
        "    del all_game_memory\n",
        "    return mean(accepted_scores),training_data\n",
        "\n",
        "\n",
        "from keras.layers import Dense, Embedding, Dropout, Input\n",
        "import keras\n",
        "def neural_network_model(input_size):\n",
        "    input1 = keras.layers.Input(shape=(input_size,))\n",
        "    x = keras.layers.Dense(128, activation='relu')(input1)\n",
        "    x=Dropout(rate=0.2)(x)\n",
        "    x = keras.layers.Dense(256, activation='relu')(x)\n",
        "    x=Dropout(rate=0.2)(x)\n",
        "    x = keras.layers.Dense(512, activation='relu')(x)\n",
        "    x=Dropout(rate=0.2)(x)\n",
        "    x = keras.layers.Dense(256, activation='relu')(x)\n",
        "    x=Dropout(rate=0.2)(x)\n",
        "    x = keras.layers.Dense(128, activation='relu')(x)\n",
        "    x=Dropout(rate=0.2)(x)\n",
        "    out = keras.layers.Dense(2,activation='softmax')(x)\n",
        "    model = keras.models.Model(inputs=[input1], outputs=out)\n",
        "    model.compile(loss = 'categorical_crossentropy', optimizer='adam',metrics = ['categorical_crossentropy'])\n",
        "    return model\n",
        "\n",
        "\n",
        "def train_model(training_data, model=False,epochs=3):\n",
        "\n",
        "    X = np.array([i[0] for i in training_data]).reshape(-1,len(training_data[0][0]))\n",
        "    # print(X)\n",
        "    y = np.array([i[1] for i in training_data])\n",
        "    # print('y\\n\\n\\n\\n',y)\n",
        "    if not model:\n",
        "        model = neural_network_model(input_size = len(X[0]))\n",
        "    # print('X shape',X.shape)\n",
        "    model.fit(x=[X], y=y, epochs=epochs,batch_size=100,verbose=1)\n",
        "    return model\n",
        "def train_n_gens(n,model=False,initial_games=1000):\n",
        "    for i in range(n):\n",
        "        if i==0 and model==False:\n",
        "            prev_mean,training_data = population()\n",
        "        else:\n",
        "            try:\n",
        "              prev_mean,training_data=population(model=model,initial_games=initial_games)\n",
        "            except NameError:\n",
        "              prev_mean,training_data=population(model=model,initial_games=initial_games)\n",
        "\n",
        "        model = train_model(training_data,epochs=10)\n",
        "        # logging.info(\"%03d prev mean:- %f\"%(i,prev_mean))\n",
        "        model.save('/content/drive/My Drive/Ml_para/ml_task1/model_%03d.h5'%(i+60))\n",
        "    final_population(model)\n",
        "\n",
        "def final_population(model):\n",
        "    scores = []\n",
        "    choices = []\n",
        "    \n",
        "    for each_game in range(100):\n",
        "        score = 0\n",
        "        game_memory = []\n",
        "        prev_obs = []\n",
        "        env.reset()\n",
        "\n",
        "        for _ in range(goal_steps):\n",
        "            # env.render()\n",
        "\n",
        "            if len(prev_obs)==0:\n",
        "                action = random.randrange(0,2)\n",
        "            else:\n",
        "                action = np.argmax(model.predict(prev_obs.reshape(-1,len(prev_obs)))[0])\n",
        "\n",
        "            choices.append(action)\n",
        "                    \n",
        "            new_observation, reward, done, info = env.step(action)\n",
        "            prev_obs = new_observation\n",
        "            # game_memory.append([new_observation, action])\n",
        "            score+=reward\n",
        "            if done:\n",
        "              scores.append(score)\n",
        "              break\n",
        "\n",
        "        # scores.append(score)\n",
        "\n",
        "    print('Average Score:',sum(scores)/len(scores))\n",
        "    print(Counter(scores))\n",
        "    print('choice 1:{}  choice 0:{}'.format(choices.count(1)/len(choices),choices.count(0)/len(choices)))\n",
        "    return sum(scores)/len(scores)\n",
        "from keras.models import load_model\n",
        "model = load_model('/content/drive/My Drive/Ml_para/ml_task1/model_059.h5')\n",
        "train_n_gens(5,model,initial_games=2000)"
      ],
      "execution_count": 0,
      "outputs": [
        {
          "output_type": "stream",
          "text": [
            "/usr/local/lib/python3.6/dist-packages/gym/logger.py:30: UserWarning: \u001b[33mWARN: Box bound precision lowered by casting to float32\u001b[0m\n",
            "  warnings.warn(colorize('%s: %s'%('WARN', msg % args), 'yellow'))\n"
          ],
          "name": "stderr"
        }
      ]
    },
    {
      "cell_type": "code",
      "metadata": {
        "id": "Rv-g7UT2ugwW",
        "colab_type": "code",
        "colab": {}
      },
      "source": [
        "\n",
        "sys.stdout = orig_stdout\n",
        "\n",
        "f.close()"
      ],
      "execution_count": 0,
      "outputs": []
    },
    {
      "cell_type": "code",
      "metadata": {
        "id": "isnxL8b2yi54",
        "colab_type": "code",
        "outputId": "6b7b7111-c99c-4cc7-9012-ff6f6b4e5f27",
        "colab": {
          "base_uri": "https://localhost:8080/",
          "height": 183
        }
      },
      "source": [
        "import gym\n",
        "import random\n",
        "import numpy as np\n",
        "import math\n",
        "from statistics import median, mean\n",
        "from collections import Counter\n",
        "import keras\n",
        "\n",
        "env = gym.make(\"CartPole-v1\")\n",
        "env.reset()\n",
        "goal_steps = 500\n",
        "score_requirement = 50\n",
        "initial_games = 1000\n",
        "def final_population(model):\n",
        "    scores = []\n",
        "    choices = []\n",
        "    \n",
        "    for each_game in range(100):\n",
        "        score = 0\n",
        "        game_memory = []\n",
        "        prev_obs = []\n",
        "        env.reset()\n",
        "\n",
        "        for _ in range(goal_steps):\n",
        "            # env.render()\n",
        "\n",
        "            if len(prev_obs)==0:\n",
        "                action = random.randrange(0,2)\n",
        "            else:\n",
        "                action = np.argmax(model.predict(prev_obs.reshape(-1,len(prev_obs)))[0])\n",
        "\n",
        "            choices.append(action)\n",
        "                    \n",
        "            new_observation, reward, done, info = env.step(action)\n",
        "            prev_obs = new_observation\n",
        "            # game_memory.append([new_observation, action])\n",
        "            score+=reward\n",
        "            if done:\n",
        "              scores.append(score)\n",
        "              break\n",
        "\n",
        "        # scores.append(score)\n",
        "\n",
        "    print('Average Score:',sum(scores)/len(scores))\n",
        "    print(Counter(scores))\n",
        "    print('choice 1:{}  choice 0:{}'.format(choices.count(1)/len(choices),choices.count(0)/len(choices)))\n",
        "    return sum(scores)/len(scores)\n",
        "from keras.models import load_model\n",
        "model = load_model('/content/drive/My Drive/Ml_para/ml_task1/model_059.h5')\n",
        "final_population(model)"
      ],
      "execution_count": 0,
      "outputs": [
        {
          "output_type": "stream",
          "text": [
            "CartPoleEnv - Version 0.2.0, Noise case: 1\n"
          ],
          "name": "stdout"
        },
        {
          "output_type": "stream",
          "text": [
            "/usr/local/lib/python3.6/dist-packages/gym/logger.py:30: UserWarning: \u001b[33mWARN: Box bound precision lowered by casting to float32\u001b[0m\n",
            "  warnings.warn(colorize('%s: %s'%('WARN', msg % args), 'yellow'))\n",
            "/usr/local/lib/python3.6/dist-packages/gym/logger.py:30: UserWarning: \u001b[33mWARN: Environment '<class 'gym.envs.classic_control.cartpole.CartPoleEnv'>' has deprecated methods '_step' and '_reset' rather than 'step' and 'reset'. Compatibility code invoked. Set _gym_disable_underscore_compat = True to disable this behavior.\u001b[0m\n",
            "  warnings.warn(colorize('%s: %s'%('WARN', msg % args), 'yellow'))\n"
          ],
          "name": "stderr"
        },
        {
          "output_type": "stream",
          "text": [
            "Average Score: 480.29\n",
            "Counter({500.0: 85, 405.0: 1, 383.0: 1, 402.0: 1, 239.0: 1, 178.0: 1, 344.0: 1, 446.0: 1, 395.0: 1, 453.0: 1, 401.0: 1, 416.0: 1, 365.0: 1, 403.0: 1, 412.0: 1, 287.0: 1})\n",
            "choice 1:0.4991359387036998  choice 0:0.5008640612963001\n"
          ],
          "name": "stdout"
        },
        {
          "output_type": "execute_result",
          "data": {
            "text/plain": [
              "480.29"
            ]
          },
          "metadata": {
            "tags": []
          },
          "execution_count": 9
        }
      ]
    },
    {
      "cell_type": "code",
      "metadata": {
        "id": "orudMWNu75WZ",
        "colab_type": "code",
        "colab": {
          "base_uri": "https://localhost:8080/",
          "height": 1000
        },
        "outputId": "6dd7ddc2-429f-4484-9bae-b1e1d48d57b1"
      },
      "source": [
        "from keras.models import load_model\n",
        "model = load_model('/content/drive/My Drive/Ml_para/ml_task1/model_059.h5')\n",
        "from keras.utils import plot_model\n",
        "plot_model(model, to_file='model.png',show_shapes=True,show_layer_names=False)"
      ],
      "execution_count": 7,
      "outputs": [
        {
          "output_type": "execute_result",
          "data": {
            "image/png": "[encoded data removed]",
            "text/plain": [
              "<IPython.core.display.Image object>"
            ]
          },
          "metadata": {
            "tags": []
          },
          "execution_count": 7
        }
      ]
    },
    {
      "cell_type": "code",
      "metadata": {
        "id": "DHWnEDarbdZr",
        "colab_type": "code",
        "colab": {}
      },
      "source": [
        ""
      ],
      "execution_count": 0,
      "outputs": []
    }
  ]
}