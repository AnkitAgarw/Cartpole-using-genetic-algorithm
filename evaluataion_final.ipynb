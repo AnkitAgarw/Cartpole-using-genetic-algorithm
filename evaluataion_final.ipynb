{
 "cells": [
  {
   "cell_type": "code",
   "execution_count": 1,
   "metadata": {},
   "outputs": [
    {
     "name": "stderr",
     "output_type": "stream",
     "text": [
      "Using TensorFlow backend.\n"
     ]
    },
    {
     "name": "stdout",
     "output_type": "stream",
     "text": [
      "Average Score: 500.0\n",
      "Counter({500.0: 100})\n",
      "choice 1:0.5  choice 0:0.5\n"
     ]
    },
    {
     "data": {
      "text/plain": [
       "500.0"
      ]
     },
     "execution_count": 1,
     "metadata": {},
     "output_type": "execute_result"
    }
   ],
   "source": [
    "import gym\n",
    "import random\n",
    "import numpy as np\n",
    "import math\n",
    "from statistics import median, mean\n",
    "from collections import Counter\n",
    "import keras\n",
    "\n",
    "env = gym.make(\"CartPole-v1\")\n",
    "env.reset()\n",
    "goal_steps = 500\n",
    "score_requirement = 50\n",
    "initial_games = 1000\n",
    "def final_population(model):\n",
    "    scores = []\n",
    "    choices = []\n",
    "    \n",
    "    for each_game in range(100):\n",
    "        score = 0\n",
    "        game_memory = []\n",
    "        prev_obs = []\n",
    "        env.reset()\n",
    "\n",
    "        for _ in range(goal_steps):\n",
    "            # env.render()\n",
    "\n",
    "            if len(prev_obs)==0:\n",
    "                action = random.randrange(0,2)\n",
    "            else:\n",
    "                action = np.argmax(model.predict(prev_obs.reshape(-1,len(prev_obs)))[0])\n",
    "\n",
    "            choices.append(action)\n",
    "                    \n",
    "            new_observation, reward, done, info = env.step(action)\n",
    "            prev_obs = new_observation\n",
    "            # game_memory.append([new_observation, action])\n",
    "            score+=reward\n",
    "            if done:\n",
    "              scores.append(score)\n",
    "              break\n",
    "\n",
    "        # scores.append(score)\n",
    "\n",
    "    print('Average Score:',sum(scores)/len(scores))\n",
    "    print(Counter(scores))\n",
    "    print('choice 1:{}  choice 0:{}'.format(choices.count(1)/len(choices),choices.count(0)/len(choices)))\n",
    "    return sum(scores)/len(scores)\n",
    "from keras.models import load_model\n",
    "model = load_model('./saved_model/final.h5')\n",
    "final_population(model)"
   ]
  },
  {
   "cell_type": "code",
   "execution_count": null,
   "metadata": {},
   "outputs": [],
   "source": []
  }
 ],
 "metadata": {
  "kernelspec": {
   "display_name": "Python 3",
   "language": "python",
   "name": "python3"
  },
  "language_info": {
   "codemirror_mode": {
    "name": "ipython",
    "version": 3
   },
   "file_extension": ".py",
   "mimetype": "text/x-python",
   "name": "python",
   "nbconvert_exporter": "python",
   "pygments_lexer": "ipython3",
   "version": "3.6.10"
  }
 },
 "nbformat": 4,
 "nbformat_minor": 4
}
